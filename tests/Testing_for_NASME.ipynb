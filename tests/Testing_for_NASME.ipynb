{
  "nbformat": 4,
  "nbformat_minor": 0,
  "metadata": {
    "colab": {
      "provenance": []
    },
    "kernelspec": {
      "name": "python3",
      "display_name": "Python 3"
    },
    "language_info": {
      "name": "python"
    }
  },
  "cells": [
    {
      "cell_type": "code",
      "source": [
        "###################\n",
        "# Installing Ipopt:\n",
        "###################\n",
        "# !sudo apt update\n",
        "# !sudo apt upgrade\n",
        "# !sudo apt-get -y install gcc g++ gfortran git make patch wget pkg-config liblapack-dev libmetis-dev libmumps-dev\n",
        "# !git clone https://github.com/coin-or-tools/ThirdParty-Mumps.git\n",
        "# !cd ThirdParty-Mumps; ./get.Mumps; ./configure; make; sudo make install\n",
        "# !git clone https://github.com/coin-or/Ipopt.git\n",
        "# !cd Ipopt; ./configure; make; make test; sudo make install\n",
        "\n",
        "#######################\n",
        "# Testing Installation:\n",
        "#######################\n",
        "# !cd ./Ipopt/examples/hs071_cpp; make; ./hs071_cpp\n"
      ],
      "metadata": {
        "id": "9CV8R_6zjp59"
      },
      "execution_count": null,
      "outputs": []
    },
    {
      "cell_type": "code",
      "source": [
        "# !wget https://raw.githubusercontent.com/coin-or/coinbrew/master/coinbrew\n",
        "# !wget https://raw.githubusercontent.com/coin-or/coinbrew/v1.0/coinbrew\n",
        "# !chmod 777 coinbrew\n",
        "# !sudo ./coinbrew fetch Ipopt --no-prompt; sudo ./coinbrew build Ipopt --test --no-prompt --verbosity=3; sudo ./coinbrew install Ipopt --no-prompt"
      ],
      "metadata": {
        "id": "fdWnWQlhub7Q"
      },
      "execution_count": null,
      "outputs": []
    },
    {
      "cell_type": "markdown",
      "source": [
        "================================================"
      ],
      "metadata": {
        "id": "KhEf1pxGgWvs"
      }
    },
    {
      "cell_type": "code",
      "source": [
        "# !sudo apt install build-essential python-dev python-six cython python-numpy coinor-libipopt1v5 coinor-libipopt-dev\n",
        "\n",
        "# !wget https://github.com/mechmotum/cyipopt/archive/refs/tags/v1.3.0.zip\n",
        "# !7z x /content/v1.3.0.zip\n",
        "\n",
        "# !python /content/cyipopt-1.3.0/setup.py install\n",
        "\n",
        "# %env PATH=$PATH:/root/anaconda3/bin/\n",
        "\n"
      ],
      "metadata": {
        "id": "GX7jZpvGTChl"
      },
      "execution_count": null,
      "outputs": []
    },
    {
      "cell_type": "code",
      "source": [
        "!git clone https://github.com/mechmotum/cyipopt.git"
      ],
      "metadata": {
        "id": "UicilV-VfXba"
      },
      "execution_count": null,
      "outputs": []
    },
    {
      "cell_type": "code",
      "source": [
        "# !wget https://repo.anaconda.com/archive/Anaconda3-2023.09-0-Linux-x86_64.sh\n",
        "# !sudo bash Anaconda3-2023.09-0-Linux-x86_64.sh -b\n",
        "\n",
        "# import os\n",
        "# path = '/root/anaconda3/bin:' + os.environ['PATH']\n",
        "# %env PATH=$path\n",
        "\n",
        "!sudo conda install -c conda-forge ipopt\n",
        "# !cd /root/anaconda3/bin/; sudo ./conda install -c conda-forge ipopt\n",
        "# !conda install -c conda-forge cyipopt\n"
      ],
      "metadata": {
        "id": "VzfH-xy3gaW_"
      },
      "execution_count": null,
      "outputs": []
    },
    {
      "cell_type": "code",
      "source": [
        "%env PATH=\"$PATH:/root/anaconda3/bin/\""
      ],
      "metadata": {
        "id": "_-PBwUQSo-CJ"
      },
      "execution_count": null,
      "outputs": []
    },
    {
      "cell_type": "code",
      "source": [
        "# !pip install gekko\n",
        "\n",
        "# from gekko import GEKKO\n",
        "# import numpy as np\n",
        "# m = GEKKO()\n",
        "# x = m.Array(m.Var,4,value=1,lb=1,ub=5)\n",
        "# x1,x2,x3,x4 = x\n",
        "# # change initial values\n",
        "# x2.value = 5; x3.value = 5\n",
        "# m.Equation(x1*x2*x3*x4>=25)\n",
        "# m.Equation(x1**2+x2**2+x3**2+x4**2==40)\n",
        "# m.Minimize(x1*x4*(x1+x2+x3)+x3)\n",
        "# m.solve()\n",
        "# print('x: ', x)\n",
        "# print('Objective: ',m.options.OBJFCNVAL)\n",
        "\n",
        "import gekko\n",
        "dir(gekko)"
      ],
      "metadata": {
        "id": "uCnoyrbmpUWE"
      },
      "execution_count": null,
      "outputs": []
    },
    {
      "cell_type": "code",
      "source": [
        "!echo $PATH"
      ],
      "metadata": {
        "id": "j74qvDprnfmW"
      },
      "execution_count": null,
      "outputs": []
    }
  ]
}
