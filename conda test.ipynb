https://github.com/ambuvjyn/Codes-for-Medium-Articles/blob/main/Google_Colab_Conda/conda_colabs.ipynb
https://www.linkedin.com/pulse/how-install-run-conda-google-colab-ambu-vijayan/

!conda --version 
!which python
!python --version
!echo $PYTHONPATH
%env PYTHONPATH=

################################################################################
# INSTALL CONDA ON GOOGLE COLAB
################################################################################
! wget https://repo.anaconda.com/miniconda/Miniconda3-py37_4.12.0-Linux-x86_64.sh
! chmod +x Miniconda3-py37_4.12.0-Linux-x86_64.sh
! bash ./Miniconda3-py37_4.12.0-Linux-x86_64.sh -b -f -p /usr/local/

!which conda
!conda --version

!conda install --channel defaults conda python=3.7 --yes
!conda update --channel defaults --all --yes

import sys
sys.path

!ls /usr/local/lib/python3.7/dist-packages

import sys
sys.path.append("/usr/local/lib/python3.7/site-packages")

!conda config --add channels bioconda
!conda config --add channels conda-forge

!conda install trinity -y
!Trinity
