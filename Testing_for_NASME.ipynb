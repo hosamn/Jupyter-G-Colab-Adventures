{
  "nbformat": 4,
  "nbformat_minor": 0,
  "metadata": {
    "colab": {
      "provenance": []
    },
    "kernelspec": {
      "name": "python3",
      "display_name": "Python 3"
    },
    "language_info": {
      "name": "python"
    }
  },
  "cells": [
    {
      "cell_type": "markdown",
      "source": [
        "![image.png](data:image/png;base64,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)"
      ],
      "metadata": {
        "id": "RsZreQrPr9-U"
      }
    },
    {
      "cell_type": "code",
      "source": [
        "###################\n",
        "# Installing Ipopt:\n",
        "###################\n",
        "# !sudo apt update\n",
        "# !sudo apt upgrade\n",
        "# !sudo apt-get -y install gcc g++ gfortran git make patch wget pkg-config liblapack-dev libmetis-dev libmumps-dev\n",
        "# !git clone https://github.com/coin-or-tools/ThirdParty-Mumps.git\n",
        "# !cd ThirdParty-Mumps; ./get.Mumps; ./configure; make; sudo make install\n",
        "# !git clone https://github.com/coin-or/Ipopt.git\n",
        "# !cd Ipopt; ./configure; make; make test; sudo make install\n",
        "\n",
        "#######################\n",
        "# Testing Installation:\n",
        "#######################\n",
        "# !cd ./Ipopt/examples/hs071_cpp; make; ./hs071_cpp\n"
      ],
      "metadata": {
        "id": "9CV8R_6zjp59"
      },
      "execution_count": null,
      "outputs": []
    },
    {
      "cell_type": "code",
      "source": [
        "# !wget https://raw.githubusercontent.com/coin-or/coinbrew/master/coinbrew\n",
        "# !wget https://raw.githubusercontent.com/coin-or/coinbrew/v1.0/coinbrew\n",
        "# !chmod 777 coinbrew\n",
        "# !sudo ./coinbrew fetch Ipopt --no-prompt; sudo ./coinbrew build Ipopt --test --no-prompt --verbosity=3; sudo ./coinbrew install Ipopt --no-prompt"
      ],
      "metadata": {
        "id": "fdWnWQlhub7Q"
      },
      "execution_count": null,
      "outputs": []
    },
    {
      "cell_type": "markdown",
      "source": [
        "================================================"
      ],
      "metadata": {
        "id": "KhEf1pxGgWvs"
      }
    },
    {
      "cell_type": "code",
      "source": [
        "# !sudo apt install build-essential python-dev python-six cython python-numpy coinor-libipopt1v5 coinor-libipopt-dev\n",
        "\n",
        "# !wget https://github.com/mechmotum/cyipopt/archive/refs/tags/v1.3.0.zip\n",
        "# !7z x /content/v1.3.0.zip\n",
        "\n",
        "# !python /content/cyipopt-1.3.0/setup.py install\n",
        "\n",
        "# %env PATH=$PATH:/root/anaconda3/bin/\n",
        "\n"
      ],
      "metadata": {
        "id": "GX7jZpvGTChl"
      },
      "execution_count": null,
      "outputs": []
    },
    {
      "cell_type": "code",
      "source": [
        "!git clone https://github.com/mechmotum/cyipopt.git"
      ],
      "metadata": {
        "id": "UicilV-VfXba"
      },
      "execution_count": null,
      "outputs": []
    },
    {
      "cell_type": "code",
      "source": [
        "# !wget https://repo.anaconda.com/archive/Anaconda3-2023.09-0-Linux-x86_64.sh\n",
        "# !sudo bash Anaconda3-2023.09-0-Linux-x86_64.sh -b\n",
        "\n",
        "# import os\n",
        "# path = '/root/anaconda3/bin:' + os.environ['PATH']\n",
        "# %env PATH=$path\n",
        "\n",
        "!sudo conda install -c conda-forge ipopt\n",
        "# !cd /root/anaconda3/bin/; sudo ./conda install -c conda-forge ipopt\n",
        "# !conda install -c conda-forge cyipopt\n"
      ],
      "metadata": {
        "id": "VzfH-xy3gaW_"
      },
      "execution_count": null,
      "outputs": []
    },
    {
      "cell_type": "code",
      "source": [
        "%env PATH=\"$PATH:/root/anaconda3/bin/\""
      ],
      "metadata": {
        "id": "_-PBwUQSo-CJ"
      },
      "execution_count": null,
      "outputs": []
    },
    {
      "cell_type": "code",
      "source": [
        "# !pip install gekko\n",
        "\n",
        "# from gekko import GEKKO\n",
        "# import numpy as np\n",
        "# m = GEKKO()\n",
        "# x = m.Array(m.Var,4,value=1,lb=1,ub=5)\n",
        "# x1,x2,x3,x4 = x\n",
        "# # change initial values\n",
        "# x2.value = 5; x3.value = 5\n",
        "# m.Equation(x1*x2*x3*x4>=25)\n",
        "# m.Equation(x1**2+x2**2+x3**2+x4**2==40)\n",
        "# m.Minimize(x1*x4*(x1+x2+x3)+x3)\n",
        "# m.solve()\n",
        "# print('x: ', x)\n",
        "# print('Objective: ',m.options.OBJFCNVAL)\n",
        "\n",
        "import gekko\n",
        "dir(gekko)"
      ],
      "metadata": {
        "id": "uCnoyrbmpUWE"
      },
      "execution_count": null,
      "outputs": []
    },
    {
      "cell_type": "code",
      "source": [
        "!echo $PATH"
      ],
      "metadata": {
        "id": "j74qvDprnfmW"
      },
      "execution_count": null,
      "outputs": []
    }
  ]
}